{
 "cells": [
  {
   "cell_type": "code",
   "execution_count": 1,
   "id": "b078da9a",
   "metadata": {},
   "outputs": [],
   "source": [
    "# Import necessary libraries\n",
    "import pandas as pd\n",
    "from sklearn.model_selection import train_test_split\n",
    "from sklearn.tree import DecisionTreeClassifier\n",
    "from sklearn.metrics import accuracy_score, classification_report, confusion_matrix\n",
    "from sklearn.preprocessing import LabelEncoder\n",
    "from sklearn.impute import SimpleImputer\n",
    "from sklearn.pipeline import make_pipeline"
   ]
  },
  {
   "cell_type": "code",
   "execution_count": 2,
   "id": "04678338",
   "metadata": {},
   "outputs": [],
   "source": [
    "# Load the dataset\n",
    "df = pd.read_csv('C:/Users/lgspa/Downloads/titanic/titanic.csv')"
   ]
  },
  {
   "cell_type": "code",
   "execution_count": 3,
   "id": "2fa40d37",
   "metadata": {},
   "outputs": [],
   "source": [
    "# Drop columns that are not useful for prediction\n",
    "df = df.drop(['PassengerId', 'Name', 'Ticket', 'Cabin'], axis=1)"
   ]
  },
  {
   "cell_type": "code",
   "execution_count": 5,
   "id": "35dd982c",
   "metadata": {},
   "outputs": [],
   "source": [
    "# Handle missing values\n",
    "# For simplicity, let's fill missing numerical values with the mean and missing categorical values with the most frequent value\n",
    "numerical_features = df.select_dtypes(include=['int64', 'float64']).columns.drop('Survived')\n",
    "\n",
    "numerical_pipeline = make_pipeline(SimpleImputer(strategy='mean'))"
   ]
  },
  {
   "cell_type": "code",
   "execution_count": 6,
   "id": "d309ad5a",
   "metadata": {},
   "outputs": [],
   "source": [
    "# Apply the transformations to numerical columns\n",
    "df[numerical_features] = numerical_pipeline.fit_transform(df[numerical_features])"
   ]
  },
  {
   "cell_type": "code",
   "execution_count": 7,
   "id": "19937b5a",
   "metadata": {},
   "outputs": [],
   "source": [
    "# Use fit_transform separately on each categorical feature\n",
    "label_encoders = {}\n",
    "categorical_features = df.select_dtypes(include=['object']).columns\n",
    "for feature in categorical_features:\n",
    "    label_encoders[feature] = LabelEncoder()\n",
    "    df[feature] = label_encoders[feature].fit_transform(df[feature])"
   ]
  },
  {
   "cell_type": "code",
   "execution_count": 8,
   "id": "1f478676",
   "metadata": {},
   "outputs": [],
   "source": [
    "# Split the dataset into features (X) and target variable (y)\n",
    "X = df.drop('Survived', axis=1)\n",
    "y = df['Survived']"
   ]
  },
  {
   "cell_type": "code",
   "execution_count": 9,
   "id": "7439200e",
   "metadata": {},
   "outputs": [],
   "source": [
    "# Create a decision tree classifier\n",
    "model = DecisionTreeClassifier(random_state=42)"
   ]
  },
  {
   "cell_type": "code",
   "execution_count": 10,
   "id": "be2aad18",
   "metadata": {},
   "outputs": [
    {
     "data": {
      "text/plain": [
       "DecisionTreeClassifier(random_state=42)"
      ]
     },
     "execution_count": 10,
     "metadata": {},
     "output_type": "execute_result"
    }
   ],
   "source": [
    "# Train the model\n",
    "model.fit(X, y)"
   ]
  },
  {
   "cell_type": "code",
   "execution_count": 11,
   "id": "573850a3",
   "metadata": {},
   "outputs": [
    {
     "name": "stdout",
     "output_type": "stream",
     "text": [
      "Enter passenger class (1, 2, or 3): 3\n",
      "Enter passenger gender (male or female): male\n",
      "Enter passenger age: 34.5\n",
      "Enter the number of siblings/spouses aboard: 0\n",
      "Enter the number of parents/children aboard: 0\n",
      "Enter the passenger fare: 7.8292\n",
      "Enter the port of embarkation (C, Q, or S): Q\n"
     ]
    }
   ],
   "source": [
    "# Get user input for a new passenger\n",
    "user_data = {\n",
    "    'Pclass': int(input('Enter passenger class (1, 2, or 3): ')),\n",
    "    'Sex': input('Enter passenger gender (male or female): '),\n",
    "    'Age': float(input('Enter passenger age: ')),\n",
    "    'SibSp': int(input('Enter the number of siblings/spouses aboard: ')),\n",
    "    'Parch': int(input('Enter the number of parents/children aboard: ')),\n",
    "    'Fare': float(input('Enter the passenger fare: ')),\n",
    "    'Embarked': input('Enter the port of embarkation (C, Q, or S): ')\n",
    "}"
   ]
  },
  {
   "cell_type": "code",
   "execution_count": 12,
   "id": "12954d70",
   "metadata": {},
   "outputs": [],
   "source": [
    "# Convert user input to a DataFrame\n",
    "user_df = pd.DataFrame([user_data])"
   ]
  },
  {
   "cell_type": "code",
   "execution_count": 13,
   "id": "88d2da53",
   "metadata": {},
   "outputs": [],
   "source": [
    "# Apply the same transformations to user input\n",
    "user_df[numerical_features] = numerical_pipeline.transform(user_df[numerical_features])\n",
    "\n",
    "for feature in categorical_features:\n",
    "    if feature in user_df.columns:  # Check if the column is present in user input\n",
    "        user_df[feature] = label_encoders[feature].transform(user_df[feature])"
   ]
  },
  {
   "cell_type": "code",
   "execution_count": 14,
   "id": "53d84234",
   "metadata": {},
   "outputs": [],
   "source": [
    "# Make a prediction for the user input\n",
    "prediction = model.predict(user_df)"
   ]
  },
  {
   "cell_type": "code",
   "execution_count": 15,
   "id": "f02b31ac",
   "metadata": {},
   "outputs": [
    {
     "name": "stdout",
     "output_type": "stream",
     "text": [
      "The passenger is not likely to survive.\n"
     ]
    }
   ],
   "source": [
    "# Print the prediction\n",
    "if prediction[0] == 1:\n",
    "    print(\"The passenger is likely to survive.\")\n",
    "else:\n",
    "    print(\"The passenger is not likely to survive.\")"
   ]
  },
  {
   "cell_type": "code",
   "execution_count": null,
   "id": "f0faf5a2",
   "metadata": {},
   "outputs": [],
   "source": []
  }
 ],
 "metadata": {
  "kernelspec": {
   "display_name": "Python 3 (ipykernel)",
   "language": "python",
   "name": "python3"
  },
  "language_info": {
   "codemirror_mode": {
    "name": "ipython",
    "version": 3
   },
   "file_extension": ".py",
   "mimetype": "text/x-python",
   "name": "python",
   "nbconvert_exporter": "python",
   "pygments_lexer": "ipython3",
   "version": "3.9.13"
  }
 },
 "nbformat": 4,
 "nbformat_minor": 5
}
